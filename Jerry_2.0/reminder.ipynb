{
 "cells": [
  {
   "cell_type": "code",
   "execution_count": null,
   "id": "e628938e",
   "metadata": {},
   "outputs": [],
   "source": [
    "import datetime\n",
    "import pyttsx3\n",
    "\n",
    "engine = pyttsx3.init()\n",
    "voices = engine.getProperty('voices')\n",
    "engine.setProperty('voice', voices[0].id)\n",
    "\n",
    "def set_reminder(task, time):\n",
    "    # Convert time string to datetime object\n",
    "    time_obj = datetime.datetime.strptime(time, \"%H:%M:%S\")\n",
    "\n",
    "    # Get current time\n",
    "    now = datetime.datetime.now()\n",
    "\n",
    "    # Calculate time difference in seconds\n",
    "    delta = (time_obj - now).total_seconds()\n",
    "\n",
    "    # Schedule the reminder\n",
    "    engine.say(f\"Reminder: {task}\")\n",
    "    engine.runAndWait()\n"
   ]
  }
 ],
 "metadata": {
  "kernelspec": {
   "display_name": "Python 3 (ipykernel)",
   "language": "python",
   "name": "python3"
  },
  "language_info": {
   "codemirror_mode": {
    "name": "ipython",
    "version": 3
   },
   "file_extension": ".py",
   "mimetype": "text/x-python",
   "name": "python",
   "nbconvert_exporter": "python",
   "pygments_lexer": "ipython3",
   "version": "3.11.0"
  }
 },
 "nbformat": 4,
 "nbformat_minor": 5
}
