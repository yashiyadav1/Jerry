{
 "cells": [
  {
   "cell_type": "code",
   "execution_count": null,
   "id": "429a4a3e",
   "metadata": {},
   "outputs": [],
   "source": [
    "import webbrowser\n",
    "\n",
    "def google_search(query):\n",
    "    query = query.lower().replace(\"search for\", \"\").replace(\"find\", \"\").replace(\"on google\", \"\").strip().replace(\" \", \"+\")\n",
    "    url = f\"https://google.com/search?q={query}\"\n",
    "    webbrowser.get().open(url)\n",
    "    response = f\"Here is what I found for '{query.replace('+', ' ')}' on Google\"\n",
    "    return response\n"
   ]
  }
 ],
 "metadata": {
  "kernelspec": {
   "display_name": "Python 3 (ipykernel)",
   "language": "python",
   "name": "python3"
  },
  "language_info": {
   "codemirror_mode": {
    "name": "ipython",
    "version": 3
   },
   "file_extension": ".py",
   "mimetype": "text/x-python",
   "name": "python",
   "nbconvert_exporter": "python",
   "pygments_lexer": "ipython3",
   "version": "3.11.0"
  }
 },
 "nbformat": 4,
 "nbformat_minor": 5
}
