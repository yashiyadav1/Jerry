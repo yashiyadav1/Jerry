{
 "cells": [
  {
   "cell_type": "code",
   "execution_count": null,
   "id": "9157abb9",
   "metadata": {},
   "outputs": [],
   "source": [
    "import webbrowser\n",
    "\n",
    "def play_music(query):\n",
    "    query = query.replace(\"play\", \"\").strip()\n",
    "    url = f\"https://www.google.com/search?q={query}\"\n",
    "    headers = {'User-Agent': 'Mozilla/5.0 (Windows NT 10.0; Win64; x64) AppleWebKit/537.36 (KHTML, like Gecko) Chrome/58.0.3029.110 Safari/537.3'}\n",
    "    res = requests.get(url, headers=headers)\n",
    "    soup = BeautifulSoup(res.text, 'html.parser')\n",
    "    search_results = soup.select('.kCrYT a')\n",
    "    for link in search_results:\n",
    "        href = link.get('href')\n",
    "        if \"youtube.com\" in href:\n",
    "            webbrowser.open(href)\n",
    "            return f\"Now playing {query} on YouTube\"\n",
    "        else:\n",
    "            webbrowser.open(href)\n",
    "            return f\"Now playing {query}\"\n",
    "    return \"Sorry, I could not find any results for that query\"\n"
   ]
  }
 ],
 "metadata": {
  "kernelspec": {
   "display_name": "Python 3 (ipykernel)",
   "language": "python",
   "name": "python3"
  },
  "language_info": {
   "codemirror_mode": {
    "name": "ipython",
    "version": 3
   },
   "file_extension": ".py",
   "mimetype": "text/x-python",
   "name": "python",
   "nbconvert_exporter": "python",
   "pygments_lexer": "ipython3",
   "version": "3.11.0"
  }
 },
 "nbformat": 4,
 "nbformat_minor": 5
}
