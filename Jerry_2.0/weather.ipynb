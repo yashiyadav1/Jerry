{
 "cells": [
  {
   "cell_type": "code",
   "execution_count": null,
   "id": "f79843b2",
   "metadata": {},
   "outputs": [],
   "source": [
    "# Import necessary modules\n",
    "import requests\n",
    "import json\n",
    "\n",
    "# Define a function to get the current weather for the user's location\n",
    "def get_weather():\n",
    "    # Use a third-party service to retrieve the user's IP address\n",
    "    response = requests.get(\"https://api.ipify.org?format=json\")\n",
    "    ip_address = json.loads(response.text)['ip']\n",
    "\n",
    "    # Use another third-party service to retrieve the user's location based on their IP address\n",
    "    url = f\"http://ip-api.com/json/{ip_address}\"\n",
    "    response = requests.get(url)\n",
    "    data = json.loads(response.text)\n",
    "\n",
    "    # Extract the city and country information from the response\n",
    "    city = data[\"city\"]\n",
    "    country = data[\"countryCode\"]\n",
    "\n",
    "    # Use the OpenWeatherMap API to retrieve the weather information for the user's location\n",
    "    API_KEY = \"your_api_key_here\"\n",
    "    url = f\"http://api.openweathermap.org/data/2.5/weather?q={city},{country}&appid={API_KEY}&units=imperial\"\n",
    "    response = requests.get(url)\n",
    "    data = json.loads(response.text)\n",
    "\n",
    "    # Extract the weather description and temperature from the response\n",
    "    weather_description = data[\"weather\"][0][\"description\"]\n",
    "    temperature = data[\"main\"][\"temp\"]\n",
    "    \n",
    "    # Format the response string and return it\n",
    "    response = f\"The current weather in {city}, {country} is {weather_description} with a temperature of {temperature} degrees Fahrenheit.\"\n",
    "    return response\n"
   ]
  }
 ],
 "metadata": {
  "kernelspec": {
   "display_name": "Python 3 (ipykernel)",
   "language": "python",
   "name": "python3"
  },
  "language_info": {
   "codemirror_mode": {
    "name": "ipython",
    "version": 3
   },
   "file_extension": ".py",
   "mimetype": "text/x-python",
   "name": "python",
   "nbconvert_exporter": "python",
   "pygments_lexer": "ipython3",
   "version": "3.11.0"
  }
 },
 "nbformat": 4,
 "nbformat_minor": 5
}
