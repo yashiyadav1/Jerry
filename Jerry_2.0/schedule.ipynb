{
 "cells": [
  {
   "cell_type": "code",
   "execution_count": null,
   "id": "9fb9d517",
   "metadata": {},
   "outputs": [],
   "source": [
    "import datetime\n",
    "import pyttsx3\n",
    "\n",
    "engine = pyttsx3.init()\n",
    "voices = engine.getProperty('voices')\n",
    "engine.setProperty('voice', voices[0].id)\n",
    "\n",
    "def add_event(event_name, start_time, end_time):\n",
    "    # Convert start and end times to datetime objects\n",
    "    start_time_obj = datetime.datetime.strptime(start_time, \"%H:%M:%S\")\n",
    "    end_time_obj = datetime.datetime.strptime(end_time, \"%H:%M:%S\")\n",
    "\n",
    "    # Schedule the event\n",
    "    engine.say(f\"Event '{event_name}' scheduled from {start_time} to {end_time}\")\n",
    "    engine.runAndWait()\n"
   ]
  }
 ],
 "metadata": {
  "kernelspec": {
   "display_name": "Python 3 (ipykernel)",
   "language": "python",
   "name": "python3"
  },
  "language_info": {
   "codemirror_mode": {
    "name": "ipython",
    "version": 3
   },
   "file_extension": ".py",
   "mimetype": "text/x-python",
   "name": "python",
   "nbconvert_exporter": "python",
   "pygments_lexer": "ipython3",
   "version": "3.11.0"
  }
 },
 "nbformat": 4,
 "nbformat_minor": 5
}
