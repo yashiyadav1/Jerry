{
 "cells": [
  {
   "cell_type": "code",
   "execution_count": null,
   "id": "d72d3eca",
   "metadata": {},
   "outputs": [],
   "source": [
    "import requests\n",
    "import json\n",
    "import pyttsx3\n",
    "\n",
    "engine = pyttsx3.init()\n",
    "voices = engine.getProperty('voices')\n",
    "engine.setProperty('voice', voices[0].id)\n",
    "\n",
    "def get_news():\n",
    "    # Make request to news API\n",
    "    url = \"https://newsapi.org/v2/top-headlines?country=us&apiKey=YOUR_API_KEY_HERE\"\n",
    "    response = requests.get(url)\n",
    "    data = json.loads(response.text)\n",
    "\n",
    "    # Read out the top headline\n",
    "    headline = data['articles'][0]['title']\n",
    "    engine.say(headline)\n",
    "    engine.runAndWait()\n"
   ]
  }
 ],
 "metadata": {
  "kernelspec": {
   "display_name": "Python 3 (ipykernel)",
   "language": "python",
   "name": "python3"
  },
  "language_info": {
   "codemirror_mode": {
    "name": "ipython",
    "version": 3
   },
   "file_extension": ".py",
   "mimetype": "text/x-python",
   "name": "python",
   "nbconvert_exporter": "python",
   "pygments_lexer": "ipython3",
   "version": "3.11.0"
  }
 },
 "nbformat": 4,
 "nbformat_minor": 5
}
