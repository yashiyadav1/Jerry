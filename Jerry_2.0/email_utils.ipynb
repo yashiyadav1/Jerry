{
 "cells": [
  {
   "cell_type": "code",
   "execution_count": null,
   "id": "b5c267c3",
   "metadata": {},
   "outputs": [],
   "source": [
    "import smtplib\n",
    "import getpass\n",
    "import pyttsx3\n",
    "\n",
    "engine = pyttsx3.init()\n",
    "voices = engine.getProperty('voices')\n",
    "engine.setProperty('voice', voices[0].id)\n",
    "\n",
    "def send_email(subject, body, recipient):\n",
    "    try:\n",
    "        # Get user's email credentials\n",
    "        email = input(\"Enter your email: \")\n",
    "        password = getpass.getpass(\"Enter your password: \")\n",
    "\n",
    "        # Log in to email server\n",
    "        server = smtplib.SMTP('smtp.gmail.com', 587)\n",
    "        server.starttls()\n",
    "        server.login(email, password)\n",
    "\n",
    "        # Send the email\n",
    "        message = f\"Subject: {subject}\\n\\n{body}\"\n",
    "        server.sendmail(email, recipient, message)\n",
    "        server.quit()\n",
    "\n",
    "        # Confirm email was sent\n",
    "        engine.say(\"Email sent successfully\")\n",
    "        engine.runAndWait()\n",
    "    except:\n",
    "        engine.say(\"Sorry, an error occurred\")\n",
    "        engine.runAndWait()\n"
   ]
  }
 ],
 "metadata": {
  "kernelspec": {
   "display_name": "Python 3 (ipykernel)",
   "language": "python",
   "name": "python3"
  },
  "language_info": {
   "codemirror_mode": {
    "name": "ipython",
    "version": 3
   },
   "file_extension": ".py",
   "mimetype": "text/x-python",
   "name": "python",
   "nbconvert_exporter": "python",
   "pygments_lexer": "ipython3",
   "version": "3.11.0"
  }
 },
 "nbformat": 4,
 "nbformat_minor": 5
}
